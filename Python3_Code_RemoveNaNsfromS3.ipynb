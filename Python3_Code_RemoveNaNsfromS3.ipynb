{
 "cells": [
  {
   "cell_type": "code",
   "execution_count": 16,
   "metadata": {},
   "outputs": [],
   "source": [
    "import rasterio\n",
    "import shutil\n",
    "import numpy\n",
    "import math\n",
    "import glob\n",
    "import sys\n",
    "import os\n",
    "import matplotlib.pyplot as plt\n",
    "import xml.etree.ElementTree as ET\n",
    "\n",
    "from osgeo import gdal\n",
    "from osgeo.gdalconst import *\n",
    "from numpy import *"
   ]
  },
  {
   "cell_type": "code",
   "execution_count": 26,
   "metadata": {},
   "outputs": [],
   "source": [
    "path = r\"C:\\Users\\EnviSAGEPC\\Desktop\\subset_0_of_S3A_OL_2_WFR____20190430T013059_20190430T013359_20190430T035323_0179_044_131_2700_MAR_O_NR_002_reprojected.data\"\n",
    "foldername = r\"C:\\Users\\EnviSAGEPC\\Desktop\\subset_0_of_S3A_OL_2_WFR____20190430T013059_20190430T013359_20190430T035323_0179_044_131_2700_MAR_O_NR_002_reprojected.data\""
   ]
  },
  {
   "cell_type": "code",
   "execution_count": 50,
   "metadata": {},
   "outputs": [
    {
     "name": "stdout",
     "output_type": "stream",
     "text": [
      "C:\\Users\\EnviSAGEPC\\Desktop\\subset_0_of_S3A_OL_2_WFR____20190430T013059_20190430T013359_20190430T035323_0179_044_131_2700_MAR_O_NR_002_reprojected.data/*.tiff\n",
      "C:\\Users\\EnviSAGEPC\\Desktop\\subset_0_of_S3A_OL_2_WFR____20190430T013059_20190430T013359_20190430T035323_0179_044_131_2700_MAR_O_NR_002_reprojected.data/*.tiff\n",
      "C:\\Users\\EnviSAGEPC\\Desktop\\subset_0_of_S3A_OL_2_WFR____20190430T013059_20190430T013359_20190430T035323_0179_044_131_2700_MAR_O_NR_002_reprojected.data/*.tiff\n",
      "C:\\Users\\EnviSAGEPC\\Desktop\\subset_0_of_S3A_OL_2_WFR____20190430T013059_20190430T013359_20190430T035323_0179_044_131_2700_MAR_O_NR_002_reprojected.data/*.tiff\n",
      "C:\\Users\\EnviSAGEPC\\Desktop\\subset_0_of_S3A_OL_2_WFR____20190430T013059_20190430T013359_20190430T035323_0179_044_131_2700_MAR_O_NR_002_reprojected.data/*.tiff\n",
      "C:\\Users\\EnviSAGEPC\\Desktop\\subset_0_of_S3A_OL_2_WFR____20190430T013059_20190430T013359_20190430T035323_0179_044_131_2700_MAR_O_NR_002_reprojected.data/*.tiff\n",
      "C:\\Users\\EnviSAGEPC\\Desktop\\subset_0_of_S3A_OL_2_WFR____20190430T013059_20190430T013359_20190430T035323_0179_044_131_2700_MAR_O_NR_002_reprojected.data/*.tiff\n",
      "C:\\Users\\EnviSAGEPC\\Desktop\\subset_0_of_S3A_OL_2_WFR____20190430T013059_20190430T013359_20190430T035323_0179_044_131_2700_MAR_O_NR_002_reprojected.data/*.tiff\n",
      "C:\\Users\\EnviSAGEPC\\Desktop\\subset_0_of_S3A_OL_2_WFR____20190430T013059_20190430T013359_20190430T035323_0179_044_131_2700_MAR_O_NR_002_reprojected.data/*.tiff\n",
      "C:\\Users\\EnviSAGEPC\\Desktop\\subset_0_of_S3A_OL_2_WFR____20190430T013059_20190430T013359_20190430T035323_0179_044_131_2700_MAR_O_NR_002_reprojected.data/*.tiff\n",
      "C:\\Users\\EnviSAGEPC\\Desktop\\subset_0_of_S3A_OL_2_WFR____20190430T013059_20190430T013359_20190430T035323_0179_044_131_2700_MAR_O_NR_002_reprojected.data/*.tiff\n",
      "C:\\Users\\EnviSAGEPC\\Desktop\\subset_0_of_S3A_OL_2_WFR____20190430T013059_20190430T013359_20190430T035323_0179_044_131_2700_MAR_O_NR_002_reprojected.data/*.tiff\n",
      "C:\\Users\\EnviSAGEPC\\Desktop\\subset_0_of_S3A_OL_2_WFR____20190430T013059_20190430T013359_20190430T035323_0179_044_131_2700_MAR_O_NR_002_reprojected.data/*.tiff\n",
      "C:\\Users\\EnviSAGEPC\\Desktop\\subset_0_of_S3A_OL_2_WFR____20190430T013059_20190430T013359_20190430T035323_0179_044_131_2700_MAR_O_NR_002_reprojected.data/*.tiff\n",
      "C:\\Users\\EnviSAGEPC\\Desktop\\subset_0_of_S3A_OL_2_WFR____20190430T013059_20190430T013359_20190430T035323_0179_044_131_2700_MAR_O_NR_002_reprojected.data/*.tiff\n",
      "C:\\Users\\EnviSAGEPC\\Desktop\\subset_0_of_S3A_OL_2_WFR____20190430T013059_20190430T013359_20190430T035323_0179_044_131_2700_MAR_O_NR_002_reprojected.data/*.tiff\n"
     ]
    }
   ],
   "source": [
    "for root, dirs, files in os.walk (path):\n",
    "    for name in files:\n",
    "        if name.endswith((\"reflectance.img\")) and not name.startswith(('.')):\n",
    "            #print ('img file:', name)\n",
    "            tmpfolderName = foldername+'/%s'%name.split('.img')[0]\n",
    "            image = root+\"/\"+name\n",
    "            raster = gdal.Open(image)\n",
    "            #image = root+\"/\"+name.split('_metadata')[0]+'.tif'\n",
    "            for b in range (raster.RasterCount + 1)[1::]:\n",
    "                with rasterio.open(image) as src:\n",
    "                    band = src.read(b)\n",
    "                    NaNs = isnan(band)\n",
    "                    band[NaNs] = 0\n",
    "                    kwargs = src.meta \n",
    "                    kwargs.update(dtype=rasterio.float32, count=1)\n",
    "                    with rasterio.open (tmpfolderName+'_'+'.tiff', 'w', **kwargs) as dst:\n",
    "                        dst.write_band(1, band.astype(rasterio.float32))\n",
    "                        \n",
    "            \n",
    "            outvrt = '/vsimem/stacked.vrt'\n",
    "            outtif = foldername+'/%s'%name[5:]+'_stacked.tif'\n",
    "            \n",
    "            print ((foldername+\"/*.tiff\"))\n",
    "            merge_command_2 = sorted(glob.glob(foldername+\"/*.tiff\"))\n",
    "            \n",
    "            outds = gdal.BuildVRT(outvrt, merge_command_2, separate=True)\n",
    "            outds = gdal.Translate(outtif, outds)"
   ]
  },
  {
   "cell_type": "code",
   "execution_count": null,
   "metadata": {},
   "outputs": [],
   "source": []
  }
 ],
 "metadata": {
  "kernelspec": {
   "display_name": "Python 3",
   "language": "python",
   "name": "python3"
  },
  "language_info": {
   "codemirror_mode": {
    "name": "ipython",
    "version": 3
   },
   "file_extension": ".py",
   "mimetype": "text/x-python",
   "name": "python",
   "nbconvert_exporter": "python",
   "pygments_lexer": "ipython3",
   "version": "3.7.5"
  }
 },
 "nbformat": 4,
 "nbformat_minor": 2
}
