{
 "cells": [
  {
   "cell_type": "code",
   "execution_count": 1,
   "metadata": {},
   "outputs": [],
   "source": [
    "import pandas as pd\n",
    "import numpy as np\n",
    "import rasterio\n",
    "import shutil\n",
    "import sys\n",
    "import os\n",
    "\n",
    "from osgeo import gdal\n",
    "from io import StringIO\n",
    "from itertools import chain\n",
    "\n",
    "import fileinput\n",
    "import subprocess\n",
    "import xml.etree.ElementTree as ET\n",
    "from configparser import ConfigParser, ExtendedInterpolation"
   ]
  },
  {
   "cell_type": "code",
   "execution_count": 5,
   "metadata": {},
   "outputs": [
    {
     "name": "stdout",
     "output_type": "stream",
     "text": [
      "Directory of WASI files: H:\\Sentinel2_fit\n",
      "H:\\Sentinel2_fit\n"
     ]
    }
   ],
   "source": [
    "path = input(\"Directory of WASI files: \")\n",
    "print (path)"
   ]
  },
  {
   "cell_type": "code",
   "execution_count": 6,
   "metadata": {
    "scrolled": true
   },
   "outputs": [],
   "source": [
    "dictionary = {}\n",
    "for root, dirs, files in os.walk (path):\n",
    "    for name in files:\n",
    "        if name.endswith((\".fit\")) and not name.startswith(('.')):\n",
    "            #print ('dat file:', name)\n",
    "            #print ('Root file', root)\n",
    "            #print (root+'/'+name)\n",
    "            \n",
    "            raster = gdal.Open(root+'/'+name)\n",
    "            \n",
    "            if raster is None:\n",
    "                print ('Unable to Open Raster Data')\n",
    "            \n",
    "            stat = []\n",
    "            for b in range(raster.RasterCount+1)[1::]:\n",
    "                band = raster.GetRasterBand(b)\n",
    "                arry = band.ReadAsArray().astype(np.float32)\n",
    "                mask = arry == 0\n",
    "                arry = np.ma.masked_array(arry, mask)\n",
    "                Min = np.min(arry)\n",
    "                Max = np.max(arry)\n",
    "                Mean = np.mean(arry)\n",
    "                Median = np.ma.median(arry)\n",
    "                Count = np.ma.count(arry)\n",
    "                stat.append([b, Min, Max, Mean, Median, Count])\n",
    "            dictionary[name] = stat\n"
   ]
  },
  {
   "cell_type": "code",
   "execution_count": 7,
   "metadata": {},
   "outputs": [],
   "source": [
    "with open('WASI_statistics.txt', 'w') as file:\n",
    "    file.write('\\n{:}\\n'.format('Statistics'))\n",
    "    for name in dictionary.keys():\n",
    "        file.write('\\n{:}\\n'.format(name))\n",
    "        file.write('{0[0]}\\t{0[1]}\\t{0[2]}\\t{0[3]}\\t{0[4]}\\t{0[5]}\\n'.format(['BAND#','MINIMUM','MAXIMUM', 'MEAN', 'MEDIAN', 'COUNT']))\n",
    "        for stat in dictionary[name]:\n",
    "            file.write(\"{0[0]}\\t{0[1]}\\t{0[2]}\\t{0[3]}\\t{0[4]}\\t{0[5]}\\n\".format(stat))\n",
    "    file.close() "
   ]
  },
  {
   "cell_type": "code",
   "execution_count": null,
   "metadata": {},
   "outputs": [],
   "source": []
  }
 ],
 "metadata": {
  "kernelspec": {
   "display_name": "Python 3",
   "language": "python",
   "name": "python3"
  },
  "language_info": {
   "codemirror_mode": {
    "name": "ipython",
    "version": 3
   },
   "file_extension": ".py",
   "mimetype": "text/x-python",
   "name": "python",
   "nbconvert_exporter": "python",
   "pygments_lexer": "ipython3",
   "version": "3.7.5"
  }
 },
 "nbformat": 4,
 "nbformat_minor": 2
}
