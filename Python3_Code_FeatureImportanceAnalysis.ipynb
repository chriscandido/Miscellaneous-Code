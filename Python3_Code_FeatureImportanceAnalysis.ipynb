{
 "cells": [
  {
   "cell_type": "code",
   "execution_count": 22,
   "metadata": {},
   "outputs": [],
   "source": [
    "import math\n",
    "import numpy as np\n",
    "import pandas as pd\n",
    "import os, sys, shutil\n",
    "import scipy.stats as st\n",
    "import matplotlib.pyplot as plt \n",
    "\n",
    "from sklearn.model_selection import train_test_split\n",
    "from sklearn.model_selection import cross_val_score\n",
    "from sklearn.pipeline import Pipeline\n",
    "from sklearn.preprocessing import StandardScaler\n",
    "from sklearn.ensemble import RandomForestClassifier\n",
    "from sklearn.ensemble import RandomForestRegressor\n",
    "from sklearn.model_selection import StratifiedKFold"
   ]
  },
  {
   "cell_type": "code",
   "execution_count": 78,
   "metadata": {},
   "outputs": [],
   "source": [
    "file = r'C:\\Users\\EnviSAGEPC\\Desktop\\Hidden Markov\\Image\\S2B_MSIL2A_021718\\Training\\Training.csv'\n",
    "file2 = r'C:\\Users\\EnviSAGEPC\\Desktop\\Hidden Markov\\Image\\S2B_MSIL2A_021718\\Test\\Test.csv'\n",
    "test = pd.read_csv(file)\n",
    "test2 = pd.read_csv(file2)\n",
    "X_train = test.iloc[:,0:-1]\n",
    "y_train = test.iloc[:,-1]\n",
    "X_test = test2.iloc[:,0:-1]\n",
    "y_test = test2.iloc[:,-1] "
   ]
  },
  {
   "cell_type": "code",
   "execution_count": 61,
   "metadata": {},
   "outputs": [
    {
     "name": "stdout",
     "output_type": "stream",
     "text": [
      "2 0.9566088117489987\n",
      "3 0.955607476635514\n",
      "4 0.9566088117489987\n",
      "5 0.9569425901201603\n",
      "6 0.9572763684913218\n",
      "7 0.9572763684913218\n",
      "8 0.9552736982643525\n",
      "9 0.9572763684913218\n",
      "10 0.9569425901201603\n",
      "11 0.9562750333778371\n",
      "12 0.9562750333778371\n",
      "13 0.9562750333778371\n",
      "14 0.9542723631508678\n",
      "15 0.9559412550066756\n",
      "16 0.9552736982643525\n",
      "17 0.9539385847797063\n",
      "18 0.9546061415220294\n",
      "19 0.9526034712950601\n",
      "20 0.9549399198931909\n",
      "21 0.9539385847797063\n",
      "22 0.9536048064085447\n",
      "23 0.9529372496662216\n",
      "24 0.9532710280373832\n",
      "25 0.9532710280373832\n",
      "26 0.9516021361815754\n",
      "27 0.9526034712950601\n",
      "28 0.9516021361815754\n",
      "29 0.951935914552737\n",
      "30 0.9499332443257676\n",
      "31 0.9516021361815754\n",
      "32 0.9499332443257676\n",
      "33 0.9509345794392523\n",
      "34 0.9492656875834445\n",
      "35 0.9479305740987984\n",
      "36 0.9485981308411215\n",
      "37 0.9469292389853138\n",
      "38 0.9485981308411215\n",
      "39 0.9472630173564753\n",
      "40 0.94826435246996\n",
      "41 0.9462616822429907\n",
      "42 0.9462616822429907\n",
      "43 0.9465954606141522\n",
      "44 0.9455941255006676\n",
      "45 0.9465954606141522\n",
      "46 0.9455941255006676\n",
      "47 0.945260347129506\n",
      "48 0.945260347129506\n",
      "49 0.945260347129506\n"
     ]
    }
   ],
   "source": [
    "for i in range(50)[2::]:\n",
    "    est = []\n",
    "    est.append(('scale', StandardScaler()))\n",
    "    est.append(('RF', RandomForestClassifier(n_estimators=1000, min_samples_split=i)))\n",
    "    model = Pipeline(est)\n",
    "    model.fit(X_train,y_train)\n",
    "    print (i, model.score(X_test, y_test))"
   ]
  },
  {
   "cell_type": "code",
   "execution_count": 63,
   "metadata": {},
   "outputs": [
    {
     "name": "stdout",
     "output_type": "stream",
     "text": [
      "Metrics for Random Forest Trained on Original Data\n",
      "Average absolute error: 0.09 degrees.\n",
      "Accuracy: 95.65 %.\n"
     ]
    }
   ],
   "source": [
    "RF = RandomForestRegressor(n_estimators=1000, random_state=100, min_samples_split=6)\n",
    "RF.fit(X_train,y_train)\n",
    "\n",
    "#Predict Unseen Data\n",
    "prediction = RF.predict(X_test)\n",
    "\n",
    "#Performance metrics \n",
    "errors = abs(prediction - y_test)\n",
    "\n",
    "print('Metrics for Random Forest Trained on Original Data')\n",
    "print('Average absolute error:', round(np.mean(errors), 2), 'degrees.')\n",
    "\n",
    "# Calculate mean absolute percentage error (MAPE)\n",
    "mape = 100 * (errors / y_test)\n",
    "\n",
    "# Calculate and display accuracy\n",
    "accuracy = 100 - np.mean(mape)\n",
    "print('Accuracy:', round(accuracy, 2), '%.')"
   ]
  },
  {
   "cell_type": "code",
   "execution_count": 65,
   "metadata": {},
   "outputs": [
    {
     "name": "stdout",
     "output_type": "stream",
     "text": [
      "Variable: NBI                  Importance: 0.67\n",
      "Variable: SAVI                 Importance: 0.05\n",
      "Variable: B8                   Importance: 0.04\n",
      "Variable: B9                   Importance: 0.04\n",
      "Variable: B10                  Importance: 0.04\n",
      "Variable: EVI                  Importance: 0.04\n",
      "Variable: NDWI                 Importance: 0.04\n",
      "Variable: B1                   Importance: 0.03\n",
      "Variable: NDBI                 Importance: 0.02\n",
      "Variable: B4                   Importance: 0.01\n",
      "Variable: AWEInsh              Importance: 0.01\n",
      "Variable: B2                   Importance: 0.0\n",
      "Variable: B3                   Importance: 0.0\n",
      "Variable: B5                   Importance: 0.0\n",
      "Variable: B6                   Importance: 0.0\n",
      "Variable: B7                   Importance: 0.0\n",
      "Variable: NDVI                 Importance: 0.0\n",
      "Variable: MNDWI                Importance: 0.0\n"
     ]
    }
   ],
   "source": [
    "feature = list(test.columns)\n",
    "# Get numerical feature importances\n",
    "importances = list(RF.feature_importances_)\n",
    "\n",
    "# List of tuples with variable and importance\n",
    "feature_importances = [(feature, round(importance, 2)) for feature, importance in zip(feature, importances)]\n",
    "\n",
    "# Sort the feature importances by most important first\n",
    "feature_importances = sorted(feature_importances, key = lambda x: x[1], reverse = True)\n",
    "\n",
    "# Print out the feature and importances \n",
    "feature_list = [('Variable: {:20} Importance: {}'.format(*pair)) for pair in feature_importances]\n",
    "\n",
    "for pair in feature_list:\n",
    "    print (pair)"
   ]
  },
  {
   "cell_type": "code",
   "execution_count": 67,
   "metadata": {},
   "outputs": [
    {
     "data": {
      "image/png": "[encoded data removed]",
      "text/plain": [
       "<Figure size 432x288 with 1 Axes>"
      ]
     },
     "metadata": {
      "needs_background": "light"
     },
     "output_type": "display_data"
    }
   ],
   "source": [
    "# list of x locations for plotting\n",
    "x_values = list(range(len(importances)))\n",
    "\n",
    "# Make a bar chart\n",
    "plt.bar(x_values, importances, orientation = 'vertical', color = 'r', linewidth = 1.2)\n",
    "\n",
    "# Tick labels for x axis\n",
    "plt.xticks(x_values, feature, rotation='vertical')\n",
    "\n",
    "# Axis labels and title\n",
    "plt.ylabel('Importance'); plt.xlabel('Variable'); plt.title('Variable Importances');"
   ]
  },
  {
   "cell_type": "code",
   "execution_count": 68,
   "metadata": {},
   "outputs": [
    {
     "data": {
      "image/png": "[encoded data removed]",
      "text/plain": [
       "<Figure size 432x288 with 1 Axes>"
      ]
     },
     "metadata": {
      "needs_background": "light"
     },
     "output_type": "display_data"
    }
   ],
   "source": [
    "# List of features sorted from most to least important\n",
    "sorted_importances = [importance[1] for importance in feature_importances]\n",
    "sorted_features = [importance[0] for importance in feature_importances]\n",
    "\n",
    "# Cumulative importances\n",
    "cumulative_importances = np.cumsum(sorted_importances)\n",
    "\n",
    "# Make a line graph\n",
    "plt.plot(x_values, cumulative_importances, 'g-')\n",
    "\n",
    "# Draw line at 95% of importance retained\n",
    "plt.hlines(y = 0.95, xmin=0, xmax=len(sorted_importances), color = 'r', linestyles = 'dashed')\n",
    "\n",
    "# Format x ticks and labels\n",
    "plt.xticks(x_values, sorted_features, rotation = 'vertical')\n",
    "\n",
    "# Axis labels and title\n",
    "plt.xlabel('Variable'); plt.ylabel('Cumulative Importance'); plt.title('Cumulative Importances');"
   ]
  },
  {
   "cell_type": "code",
   "execution_count": 89,
   "metadata": {},
   "outputs": [
    {
     "name": "stdout",
     "output_type": "stream",
     "text": [
      "No. of Variables:  1\n",
      "Metrics for Random Forest Trained on Original Data\n",
      "Average absolute error: 0.69 degrees.\n",
      "Accuracy: 82.03 %.\n",
      "-------------------------------------------------------------------------------------------------------------------\n",
      "No. of Variables:  2\n",
      "Metrics for Random Forest Trained on Original Data\n",
      "Average absolute error: 0.16 degrees.\n",
      "Accuracy: 93.35 %.\n",
      "-------------------------------------------------------------------------------------------------------------------\n",
      "No. of Variables:  3\n",
      "Metrics for Random Forest Trained on Original Data\n",
      "Average absolute error: 0.15 degrees.\n",
      "Accuracy: 94.0 %.\n",
      "-------------------------------------------------------------------------------------------------------------------\n",
      "No. of Variables:  4\n",
      "Metrics for Random Forest Trained on Original Data\n",
      "Average absolute error: 0.16 degrees.\n",
      "Accuracy: 93.71 %.\n",
      "-------------------------------------------------------------------------------------------------------------------\n",
      "No. of Variables:  5\n",
      "Metrics for Random Forest Trained on Original Data\n",
      "Average absolute error: 0.14 degrees.\n",
      "Accuracy: 94.51 %.\n",
      "-------------------------------------------------------------------------------------------------------------------\n",
      "No. of Variables:  6\n",
      "Metrics for Random Forest Trained on Original Data\n",
      "Average absolute error: 0.14 degrees.\n",
      "Accuracy: 94.48 %.\n",
      "-------------------------------------------------------------------------------------------------------------------\n",
      "No. of Variables:  7\n",
      "Metrics for Random Forest Trained on Original Data\n",
      "Average absolute error: 0.13 degrees.\n",
      "Accuracy: 94.81 %.\n",
      "-------------------------------------------------------------------------------------------------------------------\n",
      "No. of Variables:  8\n",
      "Metrics for Random Forest Trained on Original Data\n",
      "Average absolute error: 0.09 degrees.\n",
      "Accuracy: 95.95 %.\n",
      "-------------------------------------------------------------------------------------------------------------------\n",
      "No. of Variables:  9\n",
      "Metrics for Random Forest Trained on Original Data\n",
      "Average absolute error: 0.09 degrees.\n",
      "Accuracy: 95.71 %.\n",
      "-------------------------------------------------------------------------------------------------------------------\n",
      "No. of Variables:  10\n",
      "Metrics for Random Forest Trained on Original Data\n",
      "Average absolute error: 0.09 degrees.\n",
      "Accuracy: 95.75 %.\n",
      "-------------------------------------------------------------------------------------------------------------------\n",
      "No. of Variables:  11\n",
      "Metrics for Random Forest Trained on Original Data\n",
      "Average absolute error: 0.1 degrees.\n",
      "Accuracy: 95.46 %.\n",
      "-------------------------------------------------------------------------------------------------------------------\n",
      "No. of Variables:  12\n",
      "Metrics for Random Forest Trained on Original Data\n",
      "Average absolute error: 0.1 degrees.\n",
      "Accuracy: 95.47 %.\n",
      "-------------------------------------------------------------------------------------------------------------------\n",
      "No. of Variables:  13\n",
      "Metrics for Random Forest Trained on Original Data\n",
      "Average absolute error: 0.1 degrees.\n",
      "Accuracy: 95.56 %.\n",
      "-------------------------------------------------------------------------------------------------------------------\n",
      "No. of Variables:  14\n",
      "Metrics for Random Forest Trained on Original Data\n",
      "Average absolute error: 0.1 degrees.\n",
      "Accuracy: 95.6 %.\n",
      "-------------------------------------------------------------------------------------------------------------------\n",
      "No. of Variables:  15\n",
      "Metrics for Random Forest Trained on Original Data\n",
      "Average absolute error: 0.1 degrees.\n",
      "Accuracy: 95.5 %.\n",
      "-------------------------------------------------------------------------------------------------------------------\n",
      "No. of Variables:  16\n",
      "Metrics for Random Forest Trained on Original Data\n",
      "Average absolute error: 0.1 degrees.\n",
      "Accuracy: 95.48 %.\n",
      "-------------------------------------------------------------------------------------------------------------------\n",
      "No. of Variables:  17\n",
      "Metrics for Random Forest Trained on Original Data\n",
      "Average absolute error: 0.1 degrees.\n",
      "Accuracy: 95.52 %.\n",
      "-------------------------------------------------------------------------------------------------------------------\n",
      "No. of Variables:  18\n",
      "Metrics for Random Forest Trained on Original Data\n",
      "Average absolute error: 0.09 degrees.\n",
      "Accuracy: 95.65 %.\n",
      "-------------------------------------------------------------------------------------------------------------------\n"
     ]
    }
   ],
   "source": [
    "X_train = pd.concat([X_train['NBI'], X_train['SAVI'], X_train['B8'], X_train['B9'], X_train['B10'], X_train['EVI'],\\\n",
    "                    X_train['NDWI'], X_train['B1'], X_train['NDBI'], X_train['B4'], X_train['AWEInsh'], X_train['B2'],\\\n",
    "                    X_train['B3'], X_train['B5'], X_train['B6'], X_train['B7'], X_train['NDVI'], X_train['MNDWI']], axis=1)\n",
    "X_test = pd.concat([X_test['NBI'], X_test['SAVI'], X_test['B8'], X_test['B9'], X_test['B10'], X_test['EVI'],\\\n",
    "                    X_test['NDWI'], X_test['B1'], X_test['NDBI'], X_test['B4'], X_test['AWEInsh'], X_test['B2'],\\\n",
    "                    X_test['B3'], X_test['B5'], X_test['B6'], X_test['B7'], X_test['NDVI'], X_test['MNDWI']], axis=1)\n",
    "\n",
    "score = []\n",
    "\n",
    "for i in range(len(X_train.columns)+1)[1::]:\n",
    "    print ('No. of Variables: ', i)\n",
    "    RF = RandomForestRegressor(n_estimators=1000, random_state=100, min_samples_split=6)\n",
    "    RF.fit(X_train.iloc[:,0:i],y_train)\n",
    "\n",
    "    #Predict Unseen Data\n",
    "    prediction = RF.predict(X_test.iloc[:,0:i])\n",
    "\n",
    "    #Performance metrics \n",
    "    errors = abs(prediction - y_test)\n",
    "\n",
    "    print('Metrics for Random Forest Trained on Original Data')\n",
    "    print('Average absolute error:', round(np.mean(errors), 2), 'degrees.')\n",
    "\n",
    "    # Calculate mean absolute percentage error (MAPE)\n",
    "    mape = 100 * (errors / y_test)\n",
    "\n",
    "    # Calculate and display accuracy\n",
    "    accuracy = 100 - np.mean(mape)\n",
    "    score.append(accuracy)\n",
    "    print('Accuracy:', round(accuracy, 2), '%.')\n",
    "    print (\"-------------------------------------------------------------------------------------------------------------------\")"
   ]
  },
  {
   "cell_type": "code",
   "execution_count": 92,
   "metadata": {},
   "outputs": [
    {
     "data": {
      "image/png": "[encoded data removed]",
      "text/plain": [
       "<Figure size 432x288 with 1 Axes>"
      ]
     },
     "metadata": {
      "needs_background": "light"
     },
     "output_type": "display_data"
    }
   ],
   "source": [
    "# List of features sorted from most to least important\n",
    "sorted_importances = [importance[1] for importance in feature_importances]\n",
    "sorted_features = [importance[0] for importance in feature_importances]\n",
    "\n",
    "# Cumulative importances\n",
    "cumulative_importances = np.cumsum(sorted_importances)\n",
    "\n",
    "# Make a line graph\n",
    "plt.plot(x_values, score, 'g-')\n",
    "\n",
    "# Draw line at 95% of importance retained\n",
    "plt.vlines(ymin = 80.0, ymax=100.0, x = 7, color = 'r', linestyles = 'dashed')\n",
    "\n",
    "# Format x ticks and labels\n",
    "plt.xticks(x_values, sorted_features, rotation = 'vertical')\n",
    "\n",
    "# Axis labels and title\n",
    "plt.xlabel('Variable'); plt.ylabel('Accuracy Score'); plt.title('Accuracy Score of Random Forest Classifier');"
   ]
  },
  {
   "cell_type": "code",
   "execution_count": null,
   "metadata": {},
   "outputs": [],
   "source": []
  }
 ],
 "metadata": {
  "kernelspec": {
   "display_name": "Python 3",
   "language": "python",
   "name": "python3"
  },
  "language_info": {
   "codemirror_mode": {
    "name": "ipython",
    "version": 3
   },
   "file_extension": ".py",
   "mimetype": "text/x-python",
   "name": "python",
   "nbconvert_exporter": "python",
   "pygments_lexer": "ipython3",
   "version": "3.7.5"
  }
 },
 "nbformat": 4,
 "nbformat_minor": 2
}
